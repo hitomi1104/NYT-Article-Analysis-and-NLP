{
 "cells": [
  {
   "cell_type": "code",
   "execution_count": 3,
   "id": "77fd67dd",
   "metadata": {},
   "outputs": [],
   "source": [
    "from pprint import pprint\n",
    "import numpy as np\n",
    "import scipy.stats as stats\n",
    "import csv\n",
    "import pandas as pd\n",
    "import matplotlib.pyplot as plt\n",
    "import seaborn as sns \n",
    "import numpy as np\n",
    "from pylab import *\n",
    "import keyword\n",
    "\n",
    "# this line tells jupyter notebook to put the plots in the notebook rather than saving them to file\n",
    "%matplotlib inline\n",
    "\n",
    "# this line makes plots prettier on mac retina screens - if you don't have one it shouldn't do anything\n",
    "%config InlineBackend.figure_format = 'retina'"
   ]
  },
  {
   "cell_type": "code",
   "execution_count": null,
   "id": "f9748ddf",
   "metadata": {},
   "outputs": [],
   "source": [
    "import pandas as pd\n",
    "import glob\n",
    "\n",
    "all_files = glob.glob( \"*.csv\")\n",
    "li = []\n",
    "for filename in all_files:\n",
    "    data = pd.read_csv(filename, index_col=None, header=0)\n",
    "    li.append(data)\n",
    "df = pd.concat(li, axis=0, ignore_index=True)\n",
    "\n",
    "# Save the original version of the dataset for possible later uses\n",
    "# df.to_csv('nyt_10yrs_original.csv')"
   ]
  },
  {
   "cell_type": "code",
   "execution_count": null,
   "id": "0680a149",
   "metadata": {},
   "outputs": [],
   "source": [
    "df.shape"
   ]
  },
  {
   "cell_type": "code",
   "execution_count": null,
   "id": "0e57c350",
   "metadata": {},
   "outputs": [],
   "source": [
    "for val in list(df.columns):\n",
    "    print(val + ': ',  df[val].isna().sum())"
   ]
  },
  {
   "cell_type": "code",
   "execution_count": null,
   "id": "1a63c7a4",
   "metadata": {},
   "outputs": [],
   "source": [
    "# drop columns \n",
    "df.drop(columns = ['snippet', 'print_section', 'print_page', 'byline', 'news_desk', 'subsection_name'], inplace = True)"
   ]
  },
  {
   "cell_type": "code",
   "execution_count": null,
   "id": "c1f022e1",
   "metadata": {},
   "outputs": [],
   "source": [
    "# drop and fill NaN rows\n",
    "# df = df[df['news_desk'].notna()]\n",
    "df = df[df['abstract'].notna()]\n",
    "df = df[df['lead_paragraph'].notna()]\n",
    "df = df[df['section_name'].notna()]\n",
    "df = df[df['headline'].notna()]\n",
    "df = df[df['type_of_material'].notna()]"
   ]
  },
  {
   "cell_type": "code",
   "execution_count": null,
   "id": "1e9db717",
   "metadata": {
    "scrolled": true
   },
   "outputs": [],
   "source": [
    "for val in list(df.columns):\n",
    "    print(val + ': ',  df[val].isna().sum())"
   ]
  },
  {
   "cell_type": "code",
   "execution_count": null,
   "id": "97599ffe",
   "metadata": {},
   "outputs": [],
   "source": [
    "# functio that can print unique values of any columns\n",
    "def find_unique_values(col):\n",
    "    index = 1\n",
    "    for col in df:\n",
    "        print(index, col + '\\n',  df[col].unique())\n",
    "        print('------------------------------------------------------------------------------')\n",
    "        index += 1\n",
    "\n",
    "find_unique_values(0)  "
   ]
  },
  {
   "cell_type": "code",
   "execution_count": null,
   "id": "b638ca6b",
   "metadata": {},
   "outputs": [],
   "source": [
    "df.shape"
   ]
  },
  {
   "cell_type": "code",
   "execution_count": null,
   "id": "e3f54e4b",
   "metadata": {},
   "outputs": [],
   "source": [
    "df.dtypes"
   ]
  },
  {
   "cell_type": "code",
   "execution_count": null,
   "id": "f5a77277",
   "metadata": {},
   "outputs": [],
   "source": [
    "# Create a Datetime index\n",
    "import datetime\n",
    "df['date'] = pd.to_datetime(df['date'])\n",
    "df.set_index('date', inplace=True, drop=True)"
   ]
  },
  {
   "cell_type": "code",
   "execution_count": null,
   "id": "2d837d79",
   "metadata": {},
   "outputs": [],
   "source": [
    "df.head()"
   ]
  },
  {
   "cell_type": "code",
   "execution_count": null,
   "id": "9e8b3ebb",
   "metadata": {},
   "outputs": [],
   "source": [
    "df.columns"
   ]
  },
  {
   "cell_type": "code",
   "execution_count": null,
   "id": "40a69da8",
   "metadata": {},
   "outputs": [],
   "source": [
    "df = df[df.year != '2007']"
   ]
  },
  {
   "cell_type": "code",
   "execution_count": null,
   "id": "7bd34e1c",
   "metadata": {},
   "outputs": [],
   "source": [
    "df['type_of_material'].value_counts()"
   ]
  },
  {
   "cell_type": "code",
   "execution_count": null,
   "id": "361a926a",
   "metadata": {},
   "outputs": [],
   "source": [
    "df['document_type'].value_counts()"
   ]
  },
  {
   "cell_type": "code",
   "execution_count": null,
   "id": "ee2dc532",
   "metadata": {},
   "outputs": [],
   "source": []
  },
  {
   "cell_type": "code",
   "execution_count": null,
   "id": "19127621",
   "metadata": {},
   "outputs": [],
   "source": []
  },
  {
   "cell_type": "code",
   "execution_count": null,
   "id": "2632eae4",
   "metadata": {},
   "outputs": [],
   "source": []
  },
  {
   "cell_type": "code",
   "execution_count": null,
   "id": "31b5d7da",
   "metadata": {},
   "outputs": [],
   "source": []
  },
  {
   "cell_type": "code",
   "execution_count": null,
   "id": "37b5f23e",
   "metadata": {},
   "outputs": [],
   "source": []
  },
  {
   "cell_type": "code",
   "execution_count": null,
   "id": "374a98e3",
   "metadata": {},
   "outputs": [],
   "source": [
    "# organize the order of columns\n",
    "df = df[['section_name', 'headline', \n",
    "         'abstract', 'lead_paragraph', 'keywords',\n",
    "         'word_count']]\n",
    "\n",
    "# Save the cleaned data as new csv file\n",
    "df.to_csv('nyt_10yrs.csv')"
   ]
  },
  {
   "cell_type": "code",
   "execution_count": null,
   "id": "f0871021",
   "metadata": {},
   "outputs": [],
   "source": []
  },
  {
   "cell_type": "code",
   "execution_count": null,
   "id": "dcb83dfa",
   "metadata": {},
   "outputs": [],
   "source": []
  }
 ],
 "metadata": {
  "kernelspec": {
   "display_name": "Python 3",
   "language": "python",
   "name": "python3"
  },
  "language_info": {
   "codemirror_mode": {
    "name": "ipython",
    "version": 3
   },
   "file_extension": ".py",
   "mimetype": "text/x-python",
   "name": "python",
   "nbconvert_exporter": "python",
   "pygments_lexer": "ipython3",
   "version": "3.8.8"
  },
  "toc": {
   "base_numbering": 1,
   "nav_menu": {},
   "number_sections": true,
   "sideBar": true,
   "skip_h1_title": false,
   "title_cell": "Table of Contents",
   "title_sidebar": "Contents",
   "toc_cell": false,
   "toc_position": {},
   "toc_section_display": true,
   "toc_window_display": false
  }
 },
 "nbformat": 4,
 "nbformat_minor": 5
}
