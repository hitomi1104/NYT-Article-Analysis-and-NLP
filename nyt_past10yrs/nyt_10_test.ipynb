{
 "cells": [
  {
   "cell_type": "code",
   "execution_count": 1,
   "id": "692120b0",
   "metadata": {},
   "outputs": [],
   "source": [
    "from pprint import pprint\n",
    "import numpy as np\n",
    "import scipy.stats as stats\n",
    "import csv\n",
    "import pandas as pd\n",
    "import matplotlib.pyplot as plt\n",
    "import seaborn as sns \n",
    "import numpy as np\n",
    "from pylab import *\n",
    "import keyword\n",
    "\n",
    "# this line tells jupyter notebook to put the plots in the notebook rather than saving them to file\n",
    "%matplotlib inline\n",
    "\n",
    "# this line makes plots prettier on mac retina screens - if you don't have one it shouldn't do anything\n",
    "%config InlineBackend.figure_format = 'retina'"
   ]
  },
  {
   "cell_type": "code",
   "execution_count": 2,
   "id": "f4e59aee",
   "metadata": {},
   "outputs": [],
   "source": [
    "df = pd.read_csv('2021-7.csv')"
   ]
  },
  {
   "cell_type": "code",
   "execution_count": 3,
   "id": "79a65897",
   "metadata": {},
   "outputs": [
    {
     "data": {
      "text/html": [
       "<div>\n",
       "<style scoped>\n",
       "    .dataframe tbody tr th:only-of-type {\n",
       "        vertical-align: middle;\n",
       "    }\n",
       "\n",
       "    .dataframe tbody tr th {\n",
       "        vertical-align: top;\n",
       "    }\n",
       "\n",
       "    .dataframe thead th {\n",
       "        text-align: right;\n",
       "    }\n",
       "</style>\n",
       "<table border=\"1\" class=\"dataframe\">\n",
       "  <thead>\n",
       "    <tr style=\"text-align: right;\">\n",
       "      <th></th>\n",
       "      <th>headline</th>\n",
       "      <th>date</th>\n",
       "      <th>abstract</th>\n",
       "      <th>snippet</th>\n",
       "      <th>lead_paragraph</th>\n",
       "      <th>print_section</th>\n",
       "      <th>print_page</th>\n",
       "      <th>news_desk</th>\n",
       "      <th>word_count</th>\n",
       "      <th>subsection_name</th>\n",
       "      <th>document_type</th>\n",
       "      <th>type_of_material</th>\n",
       "      <th>section_name</th>\n",
       "      <th>byline</th>\n",
       "      <th>keywords</th>\n",
       "    </tr>\n",
       "  </thead>\n",
       "  <tbody>\n",
       "    <tr>\n",
       "      <th>0</th>\n",
       "      <td>From Google, on Its Advertising Tech Business</td>\n",
       "      <td>2021-07-01</td>\n",
       "      <td>“Our research shows that publishers’ revenue i...</td>\n",
       "      <td>“Our research shows that publishers’ revenue i...</td>\n",
       "      <td>To the Editor:</td>\n",
       "      <td>A</td>\n",
       "      <td>20.0</td>\n",
       "      <td>Letters</td>\n",
       "      <td>276</td>\n",
       "      <td>Letters</td>\n",
       "      <td>article</td>\n",
       "      <td>Letter</td>\n",
       "      <td>Opinion</td>\n",
       "      <td>{'original': '', 'person': [], 'organization':...</td>\n",
       "      <td>['Online Advertising', 'Advertising and Market...</td>\n",
       "    </tr>\n",
       "    <tr>\n",
       "      <th>1</th>\n",
       "      <td>The N.B.A. Champion May Be the Last Team Standing</td>\n",
       "      <td>2021-07-01</td>\n",
       "      <td>Injuries to stars have dominated and reshaped ...</td>\n",
       "      <td>Injuries to stars have dominated and reshaped ...</td>\n",
       "      <td>The Milwaukee Bucks were in the midst of a com...</td>\n",
       "      <td>B</td>\n",
       "      <td>7.0</td>\n",
       "      <td>Sports</td>\n",
       "      <td>1508</td>\n",
       "      <td>Pro Basketball</td>\n",
       "      <td>article</td>\n",
       "      <td>News</td>\n",
       "      <td>Sports</td>\n",
       "      <td>{'original': 'By Sopan Deb and Marc Stein', 'p...</td>\n",
       "      <td>['Sports Injuries', 'Basketball', 'Playoff Gam...</td>\n",
       "    </tr>\n",
       "  </tbody>\n",
       "</table>\n",
       "</div>"
      ],
      "text/plain": [
       "                                            headline        date  \\\n",
       "0      From Google, on Its Advertising Tech Business  2021-07-01   \n",
       "1  The N.B.A. Champion May Be the Last Team Standing  2021-07-01   \n",
       "\n",
       "                                            abstract  \\\n",
       "0  “Our research shows that publishers’ revenue i...   \n",
       "1  Injuries to stars have dominated and reshaped ...   \n",
       "\n",
       "                                             snippet  \\\n",
       "0  “Our research shows that publishers’ revenue i...   \n",
       "1  Injuries to stars have dominated and reshaped ...   \n",
       "\n",
       "                                      lead_paragraph print_section  \\\n",
       "0                                     To the Editor:             A   \n",
       "1  The Milwaukee Bucks were in the midst of a com...             B   \n",
       "\n",
       "   print_page news_desk  word_count subsection_name document_type  \\\n",
       "0        20.0   Letters         276         Letters       article   \n",
       "1         7.0    Sports        1508  Pro Basketball       article   \n",
       "\n",
       "  type_of_material section_name  \\\n",
       "0           Letter      Opinion   \n",
       "1             News       Sports   \n",
       "\n",
       "                                              byline  \\\n",
       "0  {'original': '', 'person': [], 'organization':...   \n",
       "1  {'original': 'By Sopan Deb and Marc Stein', 'p...   \n",
       "\n",
       "                                            keywords  \n",
       "0  ['Online Advertising', 'Advertising and Market...  \n",
       "1  ['Sports Injuries', 'Basketball', 'Playoff Gam...  "
      ]
     },
     "execution_count": 3,
     "metadata": {},
     "output_type": "execute_result"
    }
   ],
   "source": [
    "df.head(2)"
   ]
  },
  {
   "cell_type": "code",
   "execution_count": 4,
   "id": "ccf27b38",
   "metadata": {},
   "outputs": [
    {
     "name": "stdout",
     "output_type": "stream",
     "text": [
      "headline:  0\n",
      "date:  0\n",
      "abstract:  2\n",
      "snippet:  80\n",
      "lead_paragraph:  11\n",
      "print_section:  946\n",
      "print_page:  946\n",
      "news_desk:  75\n",
      "word_count:  0\n",
      "subsection_name:  1454\n",
      "document_type:  0\n",
      "type_of_material:  0\n",
      "section_name:  85\n",
      "byline:  0\n",
      "keywords:  0\n"
     ]
    }
   ],
   "source": [
    "for val in list(df.columns):\n",
    "    print(val + ': ',  df[val].isna().sum())"
   ]
  },
  {
   "cell_type": "code",
   "execution_count": 5,
   "id": "dbde642d",
   "metadata": {},
   "outputs": [],
   "source": [
    "# drop columns \n",
    "df.drop(columns = ['snippet', 'print_section', 'print_page', 'byline', 'news_desk'], inplace = True)"
   ]
  },
  {
   "cell_type": "code",
   "execution_count": 6,
   "id": "733e24f5",
   "metadata": {},
   "outputs": [
    {
     "data": {
      "text/plain": [
       "(2378, 10)"
      ]
     },
     "execution_count": 6,
     "metadata": {},
     "output_type": "execute_result"
    }
   ],
   "source": [
    "df.shape"
   ]
  },
  {
   "cell_type": "code",
   "execution_count": 7,
   "id": "afd48637",
   "metadata": {
    "scrolled": true
   },
   "outputs": [
    {
     "name": "stdout",
     "output_type": "stream",
     "text": [
      "headline:  0\n",
      "date:  0\n",
      "abstract:  2\n",
      "lead_paragraph:  11\n",
      "word_count:  0\n",
      "subsection_name:  1454\n",
      "document_type:  0\n",
      "type_of_material:  0\n",
      "section_name:  85\n",
      "keywords:  0\n"
     ]
    }
   ],
   "source": [
    "for val in list(df.columns):\n",
    "    print(val + ': ',  df[val].isna().sum())"
   ]
  },
  {
   "cell_type": "code",
   "execution_count": 8,
   "id": "5c7f0d52",
   "metadata": {},
   "outputs": [],
   "source": [
    "# drop and fill NaN rows\n",
    "# df = df[df['news_desk'].notna()]\n",
    "df = df[df['abstract'].notna()]\n",
    "df = df[df['lead_paragraph'].notna()]\n",
    "df = df[df['section_name'].notna()]"
   ]
  },
  {
   "cell_type": "code",
   "execution_count": 9,
   "id": "0e0b91f7",
   "metadata": {},
   "outputs": [
    {
     "name": "stdout",
     "output_type": "stream",
     "text": [
      "headline:  0\n",
      "date:  0\n",
      "abstract:  0\n",
      "lead_paragraph:  0\n",
      "word_count:  0\n",
      "subsection_name:  1363\n",
      "document_type:  0\n",
      "type_of_material:  0\n",
      "section_name:  0\n",
      "keywords:  0\n"
     ]
    }
   ],
   "source": [
    "for val in list(df.columns):\n",
    "    print(val + ': ',  df[val].isna().sum())"
   ]
  },
  {
   "cell_type": "code",
   "execution_count": 10,
   "id": "3a0dcecc",
   "metadata": {},
   "outputs": [
    {
     "data": {
      "text/html": [
       "<div>\n",
       "<style scoped>\n",
       "    .dataframe tbody tr th:only-of-type {\n",
       "        vertical-align: middle;\n",
       "    }\n",
       "\n",
       "    .dataframe tbody tr th {\n",
       "        vertical-align: top;\n",
       "    }\n",
       "\n",
       "    .dataframe thead th {\n",
       "        text-align: right;\n",
       "    }\n",
       "</style>\n",
       "<table border=\"1\" class=\"dataframe\">\n",
       "  <thead>\n",
       "    <tr style=\"text-align: right;\">\n",
       "      <th></th>\n",
       "      <th>headline</th>\n",
       "      <th>date</th>\n",
       "      <th>abstract</th>\n",
       "      <th>lead_paragraph</th>\n",
       "      <th>word_count</th>\n",
       "      <th>subsection_name</th>\n",
       "      <th>document_type</th>\n",
       "      <th>type_of_material</th>\n",
       "      <th>section_name</th>\n",
       "      <th>keywords</th>\n",
       "    </tr>\n",
       "  </thead>\n",
       "  <tbody>\n",
       "    <tr>\n",
       "      <th>0</th>\n",
       "      <td>From Google, on Its Advertising Tech Business</td>\n",
       "      <td>2021-07-01</td>\n",
       "      <td>“Our research shows that publishers’ revenue i...</td>\n",
       "      <td>To the Editor:</td>\n",
       "      <td>276</td>\n",
       "      <td>Letters</td>\n",
       "      <td>article</td>\n",
       "      <td>Letter</td>\n",
       "      <td>Opinion</td>\n",
       "      <td>['Online Advertising', 'Advertising and Market...</td>\n",
       "    </tr>\n",
       "    <tr>\n",
       "      <th>1</th>\n",
       "      <td>The N.B.A. Champion May Be the Last Team Standing</td>\n",
       "      <td>2021-07-01</td>\n",
       "      <td>Injuries to stars have dominated and reshaped ...</td>\n",
       "      <td>The Milwaukee Bucks were in the midst of a com...</td>\n",
       "      <td>1508</td>\n",
       "      <td>Pro Basketball</td>\n",
       "      <td>article</td>\n",
       "      <td>News</td>\n",
       "      <td>Sports</td>\n",
       "      <td>['Sports Injuries', 'Basketball', 'Playoff Gam...</td>\n",
       "    </tr>\n",
       "    <tr>\n",
       "      <th>2</th>\n",
       "      <td>A poll reveals another U.S. vaccine divide, th...</td>\n",
       "      <td>2021-07-01</td>\n",
       "      <td>Workers were more likely to get a shot when th...</td>\n",
       "      <td>A new poll has found that Americans are sharpl...</td>\n",
       "      <td>420</td>\n",
       "      <td>NaN</td>\n",
       "      <td>article</td>\n",
       "      <td>News</td>\n",
       "      <td>U.S.</td>\n",
       "      <td>['Vaccination and Immunization', 'Paid Time Of...</td>\n",
       "    </tr>\n",
       "    <tr>\n",
       "      <th>3</th>\n",
       "      <td>Judge Blocks Florida Law Regulating Social Med...</td>\n",
       "      <td>2021-07-01</td>\n",
       "      <td>It would fine companies like Facebook, YouTube...</td>\n",
       "      <td>A judge on Wednesday blocked a Florida law tha...</td>\n",
       "      <td>262</td>\n",
       "      <td>NaN</td>\n",
       "      <td>article</td>\n",
       "      <td>News</td>\n",
       "      <td>Technology</td>\n",
       "      <td>['Social Media', 'Censorship', 'Computers and ...</td>\n",
       "    </tr>\n",
       "    <tr>\n",
       "      <th>4</th>\n",
       "      <td>James Franco Agrees to Pay $2.2 Million to Set...</td>\n",
       "      <td>2021-07-01</td>\n",
       "      <td>Two former students of Mr. Franco’s acting sch...</td>\n",
       "      <td>The actor James Franco has agreed to pay more ...</td>\n",
       "      <td>680</td>\n",
       "      <td>NaN</td>\n",
       "      <td>article</td>\n",
       "      <td>News</td>\n",
       "      <td>U.S.</td>\n",
       "      <td>['Suits and Litigation (Civil)', 'Compensation...</td>\n",
       "    </tr>\n",
       "  </tbody>\n",
       "</table>\n",
       "</div>"
      ],
      "text/plain": [
       "                                            headline        date  \\\n",
       "0      From Google, on Its Advertising Tech Business  2021-07-01   \n",
       "1  The N.B.A. Champion May Be the Last Team Standing  2021-07-01   \n",
       "2  A poll reveals another U.S. vaccine divide, th...  2021-07-01   \n",
       "3  Judge Blocks Florida Law Regulating Social Med...  2021-07-01   \n",
       "4  James Franco Agrees to Pay $2.2 Million to Set...  2021-07-01   \n",
       "\n",
       "                                            abstract  \\\n",
       "0  “Our research shows that publishers’ revenue i...   \n",
       "1  Injuries to stars have dominated and reshaped ...   \n",
       "2  Workers were more likely to get a shot when th...   \n",
       "3  It would fine companies like Facebook, YouTube...   \n",
       "4  Two former students of Mr. Franco’s acting sch...   \n",
       "\n",
       "                                      lead_paragraph  word_count  \\\n",
       "0                                     To the Editor:         276   \n",
       "1  The Milwaukee Bucks were in the midst of a com...        1508   \n",
       "2  A new poll has found that Americans are sharpl...         420   \n",
       "3  A judge on Wednesday blocked a Florida law tha...         262   \n",
       "4  The actor James Franco has agreed to pay more ...         680   \n",
       "\n",
       "  subsection_name document_type type_of_material section_name  \\\n",
       "0         Letters       article           Letter      Opinion   \n",
       "1  Pro Basketball       article             News       Sports   \n",
       "2             NaN       article             News         U.S.   \n",
       "3             NaN       article             News   Technology   \n",
       "4             NaN       article             News         U.S.   \n",
       "\n",
       "                                            keywords  \n",
       "0  ['Online Advertising', 'Advertising and Market...  \n",
       "1  ['Sports Injuries', 'Basketball', 'Playoff Gam...  \n",
       "2  ['Vaccination and Immunization', 'Paid Time Of...  \n",
       "3  ['Social Media', 'Censorship', 'Computers and ...  \n",
       "4  ['Suits and Litigation (Civil)', 'Compensation...  "
      ]
     },
     "execution_count": 10,
     "metadata": {},
     "output_type": "execute_result"
    }
   ],
   "source": [
    "df.head()"
   ]
  },
  {
   "cell_type": "code",
   "execution_count": null,
   "id": "c9937d68",
   "metadata": {},
   "outputs": [],
   "source": [
    "# functio that can print unique values of any columns\n",
    "def find_unique_values(col):\n",
    "    index = 1\n",
    "    for col in df:\n",
    "        print(index, col + '\\n',  df[col].unique())\n",
    "        print('---------------------------')\n",
    "        index += 1\n",
    "\n",
    "find_unique_values(0)  "
   ]
  },
  {
   "cell_type": "code",
   "execution_count": null,
   "id": "f10cb7ad",
   "metadata": {},
   "outputs": [],
   "source": [
    "df.shape"
   ]
  },
  {
   "cell_type": "code",
   "execution_count": null,
   "id": "5b3fd8c5",
   "metadata": {},
   "outputs": [],
   "source": []
  }
 ],
 "metadata": {
  "kernelspec": {
   "display_name": "Python 3",
   "language": "python",
   "name": "python3"
  },
  "language_info": {
   "codemirror_mode": {
    "name": "ipython",
    "version": 3
   },
   "file_extension": ".py",
   "mimetype": "text/x-python",
   "name": "python",
   "nbconvert_exporter": "python",
   "pygments_lexer": "ipython3",
   "version": "3.8.8"
  },
  "toc": {
   "base_numbering": 1,
   "nav_menu": {},
   "number_sections": true,
   "sideBar": true,
   "skip_h1_title": false,
   "title_cell": "Table of Contents",
   "title_sidebar": "Contents",
   "toc_cell": false,
   "toc_position": {},
   "toc_section_display": true,
   "toc_window_display": false
  }
 },
 "nbformat": 4,
 "nbformat_minor": 5
}
