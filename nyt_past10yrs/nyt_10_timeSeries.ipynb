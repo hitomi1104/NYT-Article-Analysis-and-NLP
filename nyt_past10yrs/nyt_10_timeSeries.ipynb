{
 "cells": [
  {
   "cell_type": "code",
   "execution_count": 56,
   "id": "da060420",
   "metadata": {},
   "outputs": [
    {
     "ename": "ModuleNotFoundError",
     "evalue": "No module named 'plotly'",
     "output_type": "error",
     "traceback": [
      "\u001b[0;31m---------------------------------------------------------------------------\u001b[0m",
      "\u001b[0;31mModuleNotFoundError\u001b[0m                       Traceback (most recent call last)",
      "\u001b[0;32m<ipython-input-56-9c751e716d17>\u001b[0m in \u001b[0;36m<module>\u001b[0;34m\u001b[0m\n\u001b[1;32m     11\u001b[0m \u001b[0;34m\u001b[0m\u001b[0m\n\u001b[1;32m     12\u001b[0m \u001b[0;34m\u001b[0m\u001b[0m\n\u001b[0;32m---> 13\u001b[0;31m \u001b[0;32mfrom\u001b[0m \u001b[0mplotly\u001b[0m\u001b[0;34m.\u001b[0m\u001b[0msubplots\u001b[0m                       \u001b[0;32mimport\u001b[0m \u001b[0mmake_subplots\u001b[0m\u001b[0;34m\u001b[0m\u001b[0;34m\u001b[0m\u001b[0m\n\u001b[0m\u001b[1;32m     14\u001b[0m \u001b[0;32mfrom\u001b[0m \u001b[0msklearn\u001b[0m\u001b[0;34m.\u001b[0m\u001b[0mdecomposition\u001b[0m                 \u001b[0;32mimport\u001b[0m \u001b[0mTruncatedSVD\u001b[0m\u001b[0;34m,\u001b[0m\u001b[0mPCA\u001b[0m\u001b[0;34m\u001b[0m\u001b[0;34m\u001b[0m\u001b[0m\n\u001b[1;32m     15\u001b[0m \u001b[0;32mfrom\u001b[0m \u001b[0msklearn\u001b[0m\u001b[0;34m.\u001b[0m\u001b[0mfeature_extraction\u001b[0m\u001b[0;34m.\u001b[0m\u001b[0mtext\u001b[0m       \u001b[0;32mimport\u001b[0m \u001b[0mCountVectorizer\u001b[0m\u001b[0;34m\u001b[0m\u001b[0;34m\u001b[0m\u001b[0m\n",
      "\u001b[0;31mModuleNotFoundError\u001b[0m: No module named 'plotly'"
     ]
    }
   ],
   "source": [
    "from pprint import pprint\n",
    "import numpy as np\n",
    "import scipy.stats as stats\n",
    "import csv\n",
    "import pandas as pd\n",
    "import matplotlib.pyplot as plt\n",
    "import seaborn as sns \n",
    "import numpy as np\n",
    "from pylab import *\n",
    "import keyword\n",
    "\n",
    "\n",
    "from plotly.subplots                       import make_subplots\n",
    "from sklearn.decomposition                 import TruncatedSVD,PCA\n",
    "from sklearn.feature_extraction.text       import CountVectorizer\n",
    "nltk.download('vader_lexicon')\n",
    "from sklearn.cluster                       import KMeans\n",
    "from nltk.sentiment.vader                  import SentimentIntensityAnalyzer as SIA\n",
    "from wordcloud                             import WordCloud,STOPWORDS\n",
    "from pandas.plotting                       import autocorrelation_plot\n",
    "from statsmodels.graphics.tsaplots         import plot_acf\n",
    "from statsmodels.graphics.tsaplots         import plot_pacf\n",
    "from statsmodels.tsa.seasonal              import seasonal_decompose\n",
    "from statsmodels.tsa.ar_model              import AR,AutoReg\n",
    "from statsmodels.tsa.statespace.sarimax    import SARIMAX\n",
    "from nltk.util                             import ngrams\n",
    "from nltk                                  import word_tokenize\n",
    "from nltk.stem                             import PorterStemmer\n",
    "from nltk.stem                             import WordNetLemmatizer\n",
    "from wordcloud                             import STOPWORDS\n",
    "from tqdm                                  import tqdm\n",
    "\n",
    "\n",
    "plt.style.use('ggplot')\n",
    "\n",
    "%config InlineBackend.figure_format = 'retina'\n",
    "%matplotlib inline"
   ]
  },
  {
   "cell_type": "code",
   "execution_count": 57,
   "id": "bde113e5",
   "metadata": {
    "scrolled": true
   },
   "outputs": [
    {
     "name": "stderr",
     "output_type": "stream",
     "text": [
      "<ipython-input-57-f5822f2b3a10>:6: SettingWithCopyWarning: \n",
      "A value is trying to be set on a copy of a slice from a DataFrame.\n",
      "Try using .loc[row_indexer,col_indexer] = value instead\n",
      "\n",
      "See the caveats in the documentation: https://pandas.pydata.org/pandas-docs/stable/user_guide/indexing.html#returning-a-view-versus-a-copy\n",
      "  df_headline['date'] = pd.to_datetime(df_headline['date'])\n",
      "<ipython-input-57-f5822f2b3a10>:9: SettingWithCopyWarning: \n",
      "A value is trying to be set on a copy of a slice from a DataFrame.\n",
      "Try using .loc[row_indexer,col_indexer] = value instead\n",
      "\n",
      "See the caveats in the documentation: https://pandas.pydata.org/pandas-docs/stable/user_guide/indexing.html#returning-a-view-versus-a-copy\n",
      "  df_headline['year']         = pd.DatetimeIndex(df_headline['date']).year\n",
      "<ipython-input-57-f5822f2b3a10>:10: SettingWithCopyWarning: \n",
      "A value is trying to be set on a copy of a slice from a DataFrame.\n",
      "Try using .loc[row_indexer,col_indexer] = value instead\n",
      "\n",
      "See the caveats in the documentation: https://pandas.pydata.org/pandas-docs/stable/user_guide/indexing.html#returning-a-view-versus-a-copy\n",
      "  df_headline['month']        = pd.DatetimeIndex(df_headline['date']).month\n",
      "<ipython-input-57-f5822f2b3a10>:11: SettingWithCopyWarning: \n",
      "A value is trying to be set on a copy of a slice from a DataFrame.\n",
      "Try using .loc[row_indexer,col_indexer] = value instead\n",
      "\n",
      "See the caveats in the documentation: https://pandas.pydata.org/pandas-docs/stable/user_guide/indexing.html#returning-a-view-versus-a-copy\n",
      "  df_headline['day_of_week']  = pd.DatetimeIndex(df_headline['date']).day_name()\n",
      "<ipython-input-57-f5822f2b3a10>:12: SettingWithCopyWarning: \n",
      "A value is trying to be set on a copy of a slice from a DataFrame.\n",
      "Try using .loc[row_indexer,col_indexer] = value instead\n",
      "\n",
      "See the caveats in the documentation: https://pandas.pydata.org/pandas-docs/stable/user_guide/indexing.html#returning-a-view-versus-a-copy\n",
      "  df_headline['day']          = pd.DatetimeIndex(df_headline['date']).day\n",
      "<ipython-input-57-f5822f2b3a10>:13: SettingWithCopyWarning: \n",
      "A value is trying to be set on a copy of a slice from a DataFrame.\n",
      "Try using .loc[row_indexer,col_indexer] = value instead\n",
      "\n",
      "See the caveats in the documentation: https://pandas.pydata.org/pandas-docs/stable/user_guide/indexing.html#returning-a-view-versus-a-copy\n",
      "  df_headline['day_of_year']  = pd.DatetimeIndex(df_headline['date']).dayofyear\n",
      "<ipython-input-57-f5822f2b3a10>:14: SettingWithCopyWarning: \n",
      "A value is trying to be set on a copy of a slice from a DataFrame.\n",
      "Try using .loc[row_indexer,col_indexer] = value instead\n",
      "\n",
      "See the caveats in the documentation: https://pandas.pydata.org/pandas-docs/stable/user_guide/indexing.html#returning-a-view-versus-a-copy\n",
      "  df_headline['quarter']      = pd.DatetimeIndex(df_headline['date']).quarter\n"
     ]
    },
    {
     "data": {
      "text/html": [
       "<div>\n",
       "<style scoped>\n",
       "    .dataframe tbody tr th:only-of-type {\n",
       "        vertical-align: middle;\n",
       "    }\n",
       "\n",
       "    .dataframe tbody tr th {\n",
       "        vertical-align: top;\n",
       "    }\n",
       "\n",
       "    .dataframe thead th {\n",
       "        text-align: right;\n",
       "    }\n",
       "</style>\n",
       "<table border=\"1\" class=\"dataframe\">\n",
       "  <thead>\n",
       "    <tr style=\"text-align: right;\">\n",
       "      <th></th>\n",
       "      <th>date</th>\n",
       "      <th>headline</th>\n",
       "      <th>year</th>\n",
       "      <th>month</th>\n",
       "      <th>day_of_week</th>\n",
       "      <th>day</th>\n",
       "      <th>day_of_year</th>\n",
       "      <th>quarter</th>\n",
       "      <th>season</th>\n",
       "    </tr>\n",
       "  </thead>\n",
       "  <tbody>\n",
       "    <tr>\n",
       "      <th>0</th>\n",
       "      <td>2018-12-01</td>\n",
       "      <td>Trump’s Book Club: A President Who Doesn’t Rea...</td>\n",
       "      <td>2018</td>\n",
       "      <td>12</td>\n",
       "      <td>Saturday</td>\n",
       "      <td>1</td>\n",
       "      <td>335</td>\n",
       "      <td>4</td>\n",
       "      <td>1</td>\n",
       "    </tr>\n",
       "    <tr>\n",
       "      <th>1</th>\n",
       "      <td>2018-12-01</td>\n",
       "      <td>Kareem Hunt Is Cut by the Chiefs After a Video...</td>\n",
       "      <td>2018</td>\n",
       "      <td>12</td>\n",
       "      <td>Saturday</td>\n",
       "      <td>1</td>\n",
       "      <td>335</td>\n",
       "      <td>4</td>\n",
       "      <td>1</td>\n",
       "    </tr>\n",
       "    <tr>\n",
       "      <th>2</th>\n",
       "      <td>2018-12-01</td>\n",
       "      <td>Agency Pulls Back on Its Warning Against Talk ...</td>\n",
       "      <td>2018</td>\n",
       "      <td>12</td>\n",
       "      <td>Saturday</td>\n",
       "      <td>1</td>\n",
       "      <td>335</td>\n",
       "      <td>4</td>\n",
       "      <td>1</td>\n",
       "    </tr>\n",
       "    <tr>\n",
       "      <th>3</th>\n",
       "      <td>2018-12-01</td>\n",
       "      <td>A China Hawk Gains Prominence as Trump Confron...</td>\n",
       "      <td>2018</td>\n",
       "      <td>12</td>\n",
       "      <td>Saturday</td>\n",
       "      <td>1</td>\n",
       "      <td>335</td>\n",
       "      <td>4</td>\n",
       "      <td>1</td>\n",
       "    </tr>\n",
       "    <tr>\n",
       "      <th>4</th>\n",
       "      <td>2018-12-01</td>\n",
       "      <td>Wilmer Flores Is a Met No More</td>\n",
       "      <td>2018</td>\n",
       "      <td>12</td>\n",
       "      <td>Saturday</td>\n",
       "      <td>1</td>\n",
       "      <td>335</td>\n",
       "      <td>4</td>\n",
       "      <td>1</td>\n",
       "    </tr>\n",
       "  </tbody>\n",
       "</table>\n",
       "</div>"
      ],
      "text/plain": [
       "        date                                           headline  year  month  \\\n",
       "0 2018-12-01  Trump’s Book Club: A President Who Doesn’t Rea...  2018     12   \n",
       "1 2018-12-01  Kareem Hunt Is Cut by the Chiefs After a Video...  2018     12   \n",
       "2 2018-12-01  Agency Pulls Back on Its Warning Against Talk ...  2018     12   \n",
       "3 2018-12-01  A China Hawk Gains Prominence as Trump Confron...  2018     12   \n",
       "4 2018-12-01                     Wilmer Flores Is a Met No More  2018     12   \n",
       "\n",
       "  day_of_week  day  day_of_year  quarter  season  \n",
       "0    Saturday    1          335        4       1  \n",
       "1    Saturday    1          335        4       1  \n",
       "2    Saturday    1          335        4       1  \n",
       "3    Saturday    1          335        4       1  \n",
       "4    Saturday    1          335        4       1  "
      ]
     },
     "execution_count": 57,
     "metadata": {},
     "output_type": "execute_result"
    }
   ],
   "source": [
    "df = pd.read_csv('nyt_10yrs.csv')\n",
    "df_headline = df[['date', 'headline']]\n",
    "\n",
    "# Create a Datetime index\n",
    "import datetime\n",
    "df_headline['date'] = pd.to_datetime(df_headline['date'])\n",
    "\n",
    "\n",
    "df_headline['year']         = pd.DatetimeIndex(df_headline['date']).year\n",
    "df_headline['month']        = pd.DatetimeIndex(df_headline['date']).month\n",
    "df_headline['day_of_week']  = pd.DatetimeIndex(df_headline['date']).day_name()\n",
    "df_headline['day']          = pd.DatetimeIndex(df_headline['date']).day\n",
    "df_headline['day_of_year']  = pd.DatetimeIndex(df_headline['date']).dayofyear\n",
    "df_headline['quarter']      = pd.DatetimeIndex(df_headline['date']).quarter\n",
    "df_headline['season']       = df_headline.month%12 // 3 + 1\n",
    "\n",
    "df_headline.head()"
   ]
  },
  {
   "cell_type": "code",
   "execution_count": 58,
   "id": "257782cc",
   "metadata": {},
   "outputs": [],
   "source": [
    "yearly = df_headline.groupby(['year'], as_index = False).agg({'headline': ' '.join})\n",
    "monthly = df_headline.groupby(['month'], as_index = False).agg({'headline': ' '.join})\n",
    "weekly = df_headline.groupby(['day_of_week'], as_index = False).agg({'headline': ' '.join})\n",
    "daily = df_headline.groupby(['day'], as_index = False).agg({'headline': ' '.join})\n",
    "day_year = df_headline.groupby(['day_of_year'], as_index = False).agg({'headline': ' '.join})\n",
    "quarterly = df_headline.groupby(['quarter'], as_index = False).agg({'headline': ' '.join})\n",
    "seasonly = df_headline.groupby(['season'], as_index = False).agg({'headline': ' '.join})"
   ]
  },
  {
   "cell_type": "code",
   "execution_count": null,
   "id": "6aae96af",
   "metadata": {},
   "outputs": [],
   "source": []
  },
  {
   "cell_type": "code",
   "execution_count": null,
   "id": "33e6daf1",
   "metadata": {},
   "outputs": [],
   "source": []
  },
  {
   "cell_type": "code",
   "execution_count": 59,
   "id": "f35357ad",
   "metadata": {
    "scrolled": true
   },
   "outputs": [
    {
     "name": "stdout",
     "output_type": "stream",
     "text": [
      "   quarter                                           headline\n",
      "0        1  1919: The Year of the Crack-Up In Search of Lo...\n",
      "1        2  Two Arrested in Killings of Transgender Women ...\n",
      "2        3  Coil Extends Bob Baffert’s Domination of the H...\n",
      "3        4  Trump’s Book Club: A President Who Doesn’t Rea...\n",
      "   season                                           headline\n",
      "0       1  Trump’s Book Club: A President Who Doesn’t Rea...\n",
      "1       2  Two Arrested in Killings of Transgender Women ...\n",
      "2       3  Coil Extends Bob Baffert’s Domination of the H...\n",
      "3       4  Generation Limbo: Waiting It Out F.T.C. Critic...\n"
     ]
    }
   ],
   "source": [
    "print(quarterly)\n",
    "print(seasonly)"
   ]
  },
  {
   "cell_type": "code",
   "execution_count": 60,
   "id": "dfe181b7",
   "metadata": {},
   "outputs": [],
   "source": [
    "df.set_index('date', inplace=True, drop=True)"
   ]
  },
  {
   "cell_type": "code",
   "execution_count": 61,
   "id": "fdd43686",
   "metadata": {},
   "outputs": [
    {
     "data": {
      "text/plain": [
       "[Text(0.5, 0, 'Month'),\n",
       " Text(0, 0.5, 'Number of Articles'),\n",
       " Text(0.5, 1.0, 'Articles Published Every Month')]"
      ]
     },
     "execution_count": 61,
     "metadata": {},
     "output_type": "execute_result"
    },
    {
     "data": {
      "image/png": "[encoded data removed]",
      "text/plain": [
       "<Figure size 1152x576 with 8 Axes>"
      ]
     },
     "metadata": {
      "image/png": {
       "height": 488,
       "width": 944
      },
      "needs_background": "light"
     },
     "output_type": "display_data"
    }
   ],
   "source": [
    "from matplotlib.colors import ListedColormap\n",
    "import matplotlib.cm as cm\n",
    "\n",
    "fix, ax = plt.subplots(nrows=2, ncols=4, figsize=(16,8))\n",
    "\n",
    "ax[0,0] = df_headline.groupby(df_headline.year)['headline'].count().plot(kind='bar')\n",
    "ax[0,0].set(xlabel='Year', ylabel='Number of Articles', title=\"Articles Published Every Year\")\n",
    "\n",
    "ax[1][0] = df_headline.groupby(df_headline.month)['headline'].count().plot(kind='bar')\n",
    "ax[1][0].set(xlabel='Month', ylabel='Number of Articles', title=\"Articles Published Every Month\")\n",
    "\n",
    "# ax[2][0] = df_headline.groupby(df_headline.day_of_week)['headline'].count().plot(kind='bar')\n",
    "# ax[2][0].set(xlabel='Week', ylabel='Number of Articles', title=\"Articles Published Every Week\")\n",
    "\n",
    "# ax[0][1] = df_headline.groupby(df_headline.day)['headline'].count().plot(kind='bar')\n",
    "# ax[0][1].set(xlabel='Year', ylabel='Number of Articles', title=\"Articles Published Every Year\")\n",
    "\n",
    "# ax[1][1] = df_headline.groupby(df_headline.dat_of_year)['headline'].count().plot(kind='bar')\n",
    "# ax[1][1].set(xlabel='Year', ylabel='Number of Articles', title=\"Articles Published Every Year\")\n",
    "\n",
    "# ax[2][1] = df_headline.groupby(df_headline.quarter)['headline'].count().plot(kind='bar')\n",
    "# ax[2][1].set(xlabel='Year', ylabel='Number of Articles', title=\"Articles Published Every Year\")\n",
    "\n"
   ]
  },
  {
   "cell_type": "code",
   "execution_count": null,
   "id": "71a6284c",
   "metadata": {},
   "outputs": [],
   "source": []
  },
  {
   "cell_type": "code",
   "execution_count": 62,
   "id": "25752dff",
   "metadata": {},
   "outputs": [
    {
     "ename": "NameError",
     "evalue": "name 'tqdm' is not defined",
     "output_type": "error",
     "traceback": [
      "\u001b[0;31m---------------------------------------------------------------------------\u001b[0m",
      "\u001b[0;31mNameError\u001b[0m                                 Traceback (most recent call last)",
      "\u001b[0;32m<ipython-input-62-c929b774e3a6>\u001b[0m in \u001b[0;36m<module>\u001b[0;34m\u001b[0m\n\u001b[1;32m      4\u001b[0m \u001b[0;34m\u001b[0m\u001b[0m\n\u001b[1;32m      5\u001b[0m \u001b[0myearly_word_freqs\u001b[0m \u001b[0;34m=\u001b[0m \u001b[0;34m[\u001b[0m\u001b[0;34m]\u001b[0m\u001b[0;34m\u001b[0m\u001b[0;34m\u001b[0m\u001b[0m\n\u001b[0;32m----> 6\u001b[0;31m \u001b[0;32mfor\u001b[0m \u001b[0myear\u001b[0m \u001b[0;32min\u001b[0m \u001b[0mtqdm\u001b[0m\u001b[0;34m(\u001b[0m\u001b[0mdf_headline\u001b[0m\u001b[0;34m.\u001b[0m\u001b[0myear\u001b[0m\u001b[0;34m)\u001b[0m\u001b[0;34m:\u001b[0m\u001b[0;34m\u001b[0m\u001b[0;34m\u001b[0m\u001b[0m\n\u001b[0m\u001b[1;32m      7\u001b[0m     \u001b[0mF\u001b[0m \u001b[0;34m=\u001b[0m \u001b[0mnltk\u001b[0m\u001b[0;34m.\u001b[0m\u001b[0mFreqDist\u001b[0m\u001b[0;34m(\u001b[0m\u001b[0;34m[\u001b[0m\u001b[0mi\u001b[0m \u001b[0;32mfor\u001b[0m \u001b[0mi\u001b[0m \u001b[0;32min\u001b[0m \u001b[0;34m' '\u001b[0m\u001b[0;34m.\u001b[0m\u001b[0mjoin\u001b[0m\u001b[0;34m(\u001b[0m\u001b[0myearly\u001b[0m\u001b[0;34m.\u001b[0m\u001b[0mquery\u001b[0m\u001b[0;34m(\u001b[0m\u001b[0;34mf'year=={year}'\u001b[0m\u001b[0;34m)\u001b[0m\u001b[0;34m.\u001b[0m\u001b[0mtext\u001b[0m\u001b[0;34m)\u001b[0m\u001b[0;34m.\u001b[0m\u001b[0msplit\u001b[0m\u001b[0;34m(\u001b[0m\u001b[0;34m)\u001b[0m \u001b[0;32mif\u001b[0m \u001b[0mi\u001b[0m \u001b[0;32mnot\u001b[0m \u001b[0;32min\u001b[0m \u001b[0mSTOPWORDS\u001b[0m\u001b[0;34m]\u001b[0m\u001b[0;34m)\u001b[0m\u001b[0;34m\u001b[0m\u001b[0;34m\u001b[0m\u001b[0m\n\u001b[1;32m      8\u001b[0m     \u001b[0myearly_word_freqs\u001b[0m\u001b[0;34m.\u001b[0m\u001b[0mappend\u001b[0m\u001b[0;34m(\u001b[0m\u001b[0mF\u001b[0m\u001b[0;34m)\u001b[0m\u001b[0;34m\u001b[0m\u001b[0;34m\u001b[0m\u001b[0m\n",
      "\u001b[0;31mNameError\u001b[0m: name 'tqdm' is not defined"
     ]
    }
   ],
   "source": [
    "yearly_n1_word =[]\n",
    "yearly_n2_word =[]\n",
    "yearly_n3_word =[]\n",
    "\n",
    "yearly_word_freqs = []\n",
    "for year in tqdm(df_headline.year):\n",
    "    F = nltk.FreqDist([i for i in ' '.join(yearly.query(f'year=={year}').text).split() if i not in STOPWORDS])\n",
    "    yearly_word_freqs.append(F)\n",
    "    result = [i for i in F.most_common(3)]\n",
    "    yearly_n1_word.append(result[0])\n",
    "    yearly_n2_word.append(result[1])\n",
    "    yearly_n3_word.append(result[2])"
   ]
  },
  {
   "cell_type": "code",
   "execution_count": null,
   "id": "e6e8383c",
   "metadata": {},
   "outputs": [],
   "source": []
  },
  {
   "cell_type": "code",
   "execution_count": null,
   "id": "9c93d102",
   "metadata": {},
   "outputs": [],
   "source": []
  },
  {
   "cell_type": "code",
   "execution_count": null,
   "id": "dd0ec3f2",
   "metadata": {},
   "outputs": [],
   "source": []
  },
  {
   "cell_type": "code",
   "execution_count": null,
   "id": "9c1d8d6c",
   "metadata": {},
   "outputs": [],
   "source": []
  }
 ],
 "metadata": {
  "kernelspec": {
   "display_name": "Python 3",
   "language": "python",
   "name": "python3"
  },
  "language_info": {
   "codemirror_mode": {
    "name": "ipython",
    "version": 3
   },
   "file_extension": ".py",
   "mimetype": "text/x-python",
   "name": "python",
   "nbconvert_exporter": "python",
   "pygments_lexer": "ipython3",
   "version": "3.8.8"
  },
  "toc": {
   "base_numbering": 1,
   "nav_menu": {},
   "number_sections": true,
   "sideBar": true,
   "skip_h1_title": false,
   "title_cell": "Table of Contents",
   "title_sidebar": "Contents",
   "toc_cell": false,
   "toc_position": {},
   "toc_section_display": true,
   "toc_window_display": false
  }
 },
 "nbformat": 4,
 "nbformat_minor": 5
}
