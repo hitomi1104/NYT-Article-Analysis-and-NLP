{
 "cells": [
  {
   "cell_type": "code",
   "execution_count": 1,
   "id": "77fd67dd",
   "metadata": {},
   "outputs": [],
   "source": [
    "from pprint import pprint\n",
    "import numpy as np\n",
    "import scipy.stats as stats\n",
    "import csv\n",
    "import pandas as pd\n",
    "import matplotlib.pyplot as plt\n",
    "import seaborn as sns \n",
    "import numpy as np\n",
    "from pylab import *\n",
    "import keyword\n",
    "\n",
    "# this line tells jupyter notebook to put the plots in the notebook rather than saving them to file\n",
    "%matplotlib inline\n",
    "\n",
    "# this line makes plots prettier on mac retina screens - if you don't have one it shouldn't do anything\n",
    "%config InlineBackend.figure_format = 'retina'"
   ]
  },
  {
   "cell_type": "code",
   "execution_count": 2,
   "id": "f9748ddf",
   "metadata": {},
   "outputs": [
    {
     "name": "stderr",
     "output_type": "stream",
     "text": [
      "/Users/hitomihoshino/opt/anaconda3/lib/python3.8/site-packages/IPython/core/interactiveshell.py:3437: DtypeWarning: Columns (7) have mixed types.Specify dtype option on import or set low_memory=False.\n",
      "  exec(code_obj, self.user_global_ns, self.user_ns)\n"
     ]
    }
   ],
   "source": [
    "import pandas as pd\n",
    "import glob\n",
    "\n",
    "all_files = glob.glob( \"*.csv\")\n",
    "li = []\n",
    "for filename in all_files:\n",
    "    data = pd.read_csv(filename, index_col=None, header=0)\n",
    "    li.append(data)\n",
    "df = pd.concat(li, axis=0, ignore_index=True)\n",
    "\n",
    "# Save the original version of the dataset for possible later uses\n",
    "df.to_csv('nyt_5_unclean.csv')"
   ]
  },
  {
   "cell_type": "code",
   "execution_count": 3,
   "id": "0680a149",
   "metadata": {},
   "outputs": [
    {
     "data": {
      "text/plain": [
       "(894548, 17)"
      ]
     },
     "execution_count": 3,
     "metadata": {},
     "output_type": "execute_result"
    }
   ],
   "source": [
    "df.shape"
   ]
  },
  {
   "cell_type": "code",
   "execution_count": 4,
   "id": "0e57c350",
   "metadata": {},
   "outputs": [],
   "source": [
    "# for val in list(df.columns):\n",
    "#     print(val + ': ',  df[val].isna().sum())"
   ]
  },
  {
   "cell_type": "code",
   "execution_count": 5,
   "id": "1a63c7a4",
   "metadata": {},
   "outputs": [],
   "source": [
    "# drop columns \n",
    "df.drop(columns = ['snippet', 'print_section', 'print_page', 'byline', 'news_desk', 'subsection_name'], inplace = True)"
   ]
  },
  {
   "cell_type": "code",
   "execution_count": 6,
   "id": "c1f022e1",
   "metadata": {},
   "outputs": [],
   "source": [
    "# drop and fill NaN rows\n",
    "# df = df[df['news_desk'].notna()]\n",
    "df = df[df['abstract'].notna()]\n",
    "df = df[df['lead_paragraph'].notna()]\n",
    "df = df[df['section_name'].notna()]\n",
    "df = df[df['headline'].notna()]\n",
    "df = df[df['type_of_material'].notna()]"
   ]
  },
  {
   "cell_type": "code",
   "execution_count": 7,
   "id": "1e9db717",
   "metadata": {
    "scrolled": true
   },
   "outputs": [
    {
     "name": "stdout",
     "output_type": "stream",
     "text": [
      "Unnamed: 0:  0\n",
      "headline:  0\n",
      "date:  430924\n",
      "abstract:  0\n",
      "lead_paragraph:  0\n",
      "word_count:  0\n",
      "document_type:  0\n",
      "type_of_material:  0\n",
      "section_name:  0\n",
      "keywords:  0\n",
      "Unnamed: 0.1:  646386\n"
     ]
    }
   ],
   "source": [
    "for val in list(df.columns):\n",
    "    print(val + ': ',  df[val].isna().sum())"
   ]
  },
  {
   "cell_type": "code",
   "execution_count": 8,
   "id": "97599ffe",
   "metadata": {},
   "outputs": [
    {
     "name": "stdout",
     "output_type": "stream",
     "text": [
      "1 Unnamed: 0\n",
      " [     0      1      2 ... 447271 447272 447273]\n",
      "------------------------------------------------------------------------------\n",
      "2 headline\n",
      " ['Trump’s Book Club: A President Who Doesn’t Read Promotes the Books That Promote Him'\n",
      " 'Kareem Hunt Is Cut by the Chiefs After a Video Showed Him Attacking a Woman'\n",
      " 'Agency Pulls Back on Its Warning Against Talk of ‘Resistance’ in Federal Workplaces'\n",
      " ... 'Trump Fans Strife as Unrest Roils the U.S.'\n",
      " 'A Teacher and Congresswoman Confronts School Reopenings'\n",
      " 'Frustrated by Election Boycott, Venezuela’s Leader Pardons 100 Opponents']\n",
      "------------------------------------------------------------------------------\n",
      "3 date\n",
      " ['2018-12-01' '2018-12-02' '2018-12-03' ... '2020-08-30' '2020-08-31' nan]\n",
      "------------------------------------------------------------------------------\n",
      "4 abstract\n",
      " ['President Trump, who is not a reader, has used Twitter to plug a slew of Trump-friendly books with titles like “Why We Fight” and “The Russia Hoax.”'\n",
      " 'Hunt, a star running back, was also suspended by the N.F.L. hours after the release of the video, which showed Hunt knocking a woman down and kicking her at a hotel in February.'\n",
      " 'Casual conversations about impeachment and invocations of “resistance” to policies, but not to President Trump, will be permitted, the Office of Special Counsel said.'\n",
      " ...\n",
      " 'The president plans to visit to Kenosha, Wis., on Tuesday, unwelcome by officials in a state pivotal to the election, to condemn what he calls “left-wing mobs.”'\n",
      " 'Representative Jahana Hayes, a former National Teacher of the Year, says that she has many concerns — and that parents need to make their voices heard.'\n",
      " 'President Nicolás Maduro cast his decree as a bid for unity, but many members of the political opposition quickly scorned it.']\n",
      "------------------------------------------------------------------------------\n",
      "5 lead_paragraph\n",
      " ['WASHINGTON — President Trump, a leader who is not exactly a man of letters — at least not beyond those on his CAPS LOCK keyboard — has been using his Twitter account to promote a slew of books that he regards as “incredible,” “terrific” and “great originals.”'\n",
      " 'The Kansas City Chiefs cut their star running back, Kareem Hunt, on Friday, shortly after the N.F.L. suspended him in response to the release of a video that showed Hunt knocking a woman down and kicking her at a hotel in February.'\n",
      " 'WASHINGTON — An independent government agency, facing criticism over a warning to federal employees against taking positions for or against the impeachment of President Trump and using slogans incorporating the word “resist,” revised its guidance on Friday to say that some discussion of both topics remained lawful.'\n",
      " ...\n",
      " 'WASHINGTON — President Trump has been throwing accelerant on the fire of the nation’s social unrest rather than trying to put it out, seeking confrontation rather than calm at a volatile moment his advisers hope will help salvage his campaign for a second term.'\n",
      " 'Hi. Welcome to On Politics, your guide to the day in national politics. I’m Reid Epstein. Lisa is off this week.'\n",
      " 'MEXICO CITY — The Venezuelan government said Monday it would pardon more than 100 political opponents who had been targeted for prosecution in what would amount to the country’s largest political amnesty in almost a decade.']\n",
      "------------------------------------------------------------------------------\n",
      "6 word_count\n",
      " [1223 1036  567 ... 5894 3863 2941]\n",
      "------------------------------------------------------------------------------\n",
      "7 document_type\n",
      " ['article' 'multimedia' 'audiocontainer']\n",
      "------------------------------------------------------------------------------\n",
      "8 type_of_material\n",
      " ['News' 'Editorial' 'Op-Ed' 'Quote' 'Correction' 'Video' 'Obituary (Obit)'\n",
      " 'Slideshow' 'Schedule' 'News Analysis' 'Letter' 'briefing' 'Question'\n",
      " 'Review' 'Interactive Feature' 'List' 'Biography' 'An Appraisal' 'Text'\n",
      " 'Interview' 'Newsletter' 'First Chapter' 'An Analysis' 'Brief' 'Web Log'\n",
      " 'Series' 'Summary']\n",
      "------------------------------------------------------------------------------\n",
      "9 section_name\n",
      " ['U.S.' 'Sports' 'Opinion' 'World' 'Science' 'Today’s Paper'\n",
      " 'Crosswords & Games' 'Business Day' 'Corrections' 'Travel' 'Obituaries'\n",
      " 'Arts' 'New York' 'Books' 'Health' 'Style' 'Well' 'Fashion & Style'\n",
      " 'Real Estate' 'Admin' 'Neediest Cases' 'Theater' 'Sunday Review'\n",
      " 'Reader Center' 'Climate' 'Briefing' 'Food' 'Movies'\n",
      " 'The Learning Network' 'Smarter Living' 'Technology' 'Lens' 'The Upshot'\n",
      " 'Podcasts' 'T Brand' 'T Magazine' 'Your Money' 'Magazine' 'Guides'\n",
      " 'Times Insider' 'Universal' 'Watching' 'Multimedia/Photos' 'Education'\n",
      " 'Parenting' 'Burst' 'At Home' 'Home & Garden' 'Video' 'Automobiles'\n",
      " 'International Home' 'Job Market' 'Blogs' 'The Weekly' 'Topics'\n",
      " 'Slideshows' 'en Español' 'Special Series' 'The New York Times Presents'\n",
      " 'Homepage']\n",
      "------------------------------------------------------------------------------\n",
      "10 keywords\n",
      " [\"['Books and Literature', 'United States Politics and Government', 'Presidents and Presidency (US)']\"\n",
      " \"['Football', 'Domestic Violence']\" \"['Hatch Act (1939)']\" ...\n",
      " \"['Presidential Election of 2020', 'George Floyd Protests (2020)', 'Demonstrations, Protests and Riots', 'Antifa Movement (US)', 'United States Politics and Government']\"\n",
      " \"['Education (K-12)', 'Coronavirus Reopenings', 'Coronavirus Risks and Safety Concerns']\"\n",
      " \"['Amnesties, Commutations and Pardons', 'Political Prisoners', 'Politics and Government', 'Embargoes and Sanctions', 'Boycotts']\"]\n",
      "------------------------------------------------------------------------------\n",
      "11 Unnamed: 0.1\n",
      " [        nan 0.00000e+00 1.00000e+00 ... 2.23634e+05 2.23635e+05\n",
      " 2.23636e+05]\n",
      "------------------------------------------------------------------------------\n"
     ]
    }
   ],
   "source": [
    "# functio that can print unique values of any columns\n",
    "def find_unique_values(col):\n",
    "    index = 1\n",
    "    for col in df:\n",
    "        print(index, col + '\\n',  df[col].unique())\n",
    "        print('------------------------------------------------------------------------------')\n",
    "        index += 1\n",
    "\n",
    "find_unique_values(0)  "
   ]
  },
  {
   "cell_type": "code",
   "execution_count": 9,
   "id": "b638ca6b",
   "metadata": {},
   "outputs": [
    {
     "data": {
      "text/plain": [
       "(861848, 11)"
      ]
     },
     "execution_count": 9,
     "metadata": {},
     "output_type": "execute_result"
    }
   ],
   "source": [
    "df.shape"
   ]
  },
  {
   "cell_type": "code",
   "execution_count": 10,
   "id": "e3f54e4b",
   "metadata": {},
   "outputs": [
    {
     "data": {
      "text/plain": [
       "Unnamed: 0            int64\n",
       "headline             object\n",
       "date                 object\n",
       "abstract             object\n",
       "lead_paragraph       object\n",
       "word_count            int64\n",
       "document_type        object\n",
       "type_of_material     object\n",
       "section_name         object\n",
       "keywords             object\n",
       "Unnamed: 0.1        float64\n",
       "dtype: object"
      ]
     },
     "execution_count": 10,
     "metadata": {},
     "output_type": "execute_result"
    }
   ],
   "source": [
    "df.dtypes"
   ]
  },
  {
   "cell_type": "code",
   "execution_count": 11,
   "id": "f5a77277",
   "metadata": {},
   "outputs": [],
   "source": [
    "# Create a Datetime index\n",
    "import datetime\n",
    "df['date'] = pd.to_datetime(df['date'])\n",
    "df.set_index('date', inplace=True, drop=True)"
   ]
  },
  {
   "cell_type": "code",
   "execution_count": 12,
   "id": "2d837d79",
   "metadata": {},
   "outputs": [
    {
     "data": {
      "text/html": [
       "<div>\n",
       "<style scoped>\n",
       "    .dataframe tbody tr th:only-of-type {\n",
       "        vertical-align: middle;\n",
       "    }\n",
       "\n",
       "    .dataframe tbody tr th {\n",
       "        vertical-align: top;\n",
       "    }\n",
       "\n",
       "    .dataframe thead th {\n",
       "        text-align: right;\n",
       "    }\n",
       "</style>\n",
       "<table border=\"1\" class=\"dataframe\">\n",
       "  <thead>\n",
       "    <tr style=\"text-align: right;\">\n",
       "      <th></th>\n",
       "      <th>Unnamed: 0</th>\n",
       "      <th>headline</th>\n",
       "      <th>abstract</th>\n",
       "      <th>lead_paragraph</th>\n",
       "      <th>word_count</th>\n",
       "      <th>document_type</th>\n",
       "      <th>type_of_material</th>\n",
       "      <th>section_name</th>\n",
       "      <th>keywords</th>\n",
       "      <th>Unnamed: 0.1</th>\n",
       "    </tr>\n",
       "    <tr>\n",
       "      <th>date</th>\n",
       "      <th></th>\n",
       "      <th></th>\n",
       "      <th></th>\n",
       "      <th></th>\n",
       "      <th></th>\n",
       "      <th></th>\n",
       "      <th></th>\n",
       "      <th></th>\n",
       "      <th></th>\n",
       "      <th></th>\n",
       "    </tr>\n",
       "  </thead>\n",
       "  <tbody>\n",
       "    <tr>\n",
       "      <th>2018-12-01</th>\n",
       "      <td>0</td>\n",
       "      <td>Trump’s Book Club: A President Who Doesn’t Rea...</td>\n",
       "      <td>President Trump, who is not a reader, has used...</td>\n",
       "      <td>WASHINGTON — President Trump, a leader who is ...</td>\n",
       "      <td>1223</td>\n",
       "      <td>article</td>\n",
       "      <td>News</td>\n",
       "      <td>U.S.</td>\n",
       "      <td>['Books and Literature', 'United States Politi...</td>\n",
       "      <td>NaN</td>\n",
       "    </tr>\n",
       "    <tr>\n",
       "      <th>2018-12-01</th>\n",
       "      <td>1</td>\n",
       "      <td>Kareem Hunt Is Cut by the Chiefs After a Video...</td>\n",
       "      <td>Hunt, a star running back, was also suspended ...</td>\n",
       "      <td>The Kansas City Chiefs cut their star running ...</td>\n",
       "      <td>1036</td>\n",
       "      <td>article</td>\n",
       "      <td>News</td>\n",
       "      <td>Sports</td>\n",
       "      <td>['Football', 'Domestic Violence']</td>\n",
       "      <td>NaN</td>\n",
       "    </tr>\n",
       "    <tr>\n",
       "      <th>2018-12-01</th>\n",
       "      <td>2</td>\n",
       "      <td>Agency Pulls Back on Its Warning Against Talk ...</td>\n",
       "      <td>Casual conversations about impeachment and inv...</td>\n",
       "      <td>WASHINGTON — An independent government agency,...</td>\n",
       "      <td>567</td>\n",
       "      <td>article</td>\n",
       "      <td>News</td>\n",
       "      <td>U.S.</td>\n",
       "      <td>['Hatch Act (1939)']</td>\n",
       "      <td>NaN</td>\n",
       "    </tr>\n",
       "    <tr>\n",
       "      <th>2018-12-01</th>\n",
       "      <td>3</td>\n",
       "      <td>A China Hawk Gains Prominence as Trump Confron...</td>\n",
       "      <td>Michael Pillsbury, the president’s top outside...</td>\n",
       "      <td>WASHINGTON — Michael Pillsbury had just finish...</td>\n",
       "      <td>1449</td>\n",
       "      <td>article</td>\n",
       "      <td>News</td>\n",
       "      <td>U.S.</td>\n",
       "      <td>['United States International Relations', 'Uni...</td>\n",
       "      <td>NaN</td>\n",
       "    </tr>\n",
       "    <tr>\n",
       "      <th>2018-12-01</th>\n",
       "      <td>4</td>\n",
       "      <td>Wilmer Flores Is a Met No More</td>\n",
       "      <td>A fan favorite, Flores did not receive a contr...</td>\n",
       "      <td>The Mets parted ways with a fan favorite, Wilm...</td>\n",
       "      <td>291</td>\n",
       "      <td>article</td>\n",
       "      <td>News</td>\n",
       "      <td>Sports</td>\n",
       "      <td>['Baseball']</td>\n",
       "      <td>NaN</td>\n",
       "    </tr>\n",
       "  </tbody>\n",
       "</table>\n",
       "</div>"
      ],
      "text/plain": [
       "            Unnamed: 0                                           headline  \\\n",
       "date                                                                        \n",
       "2018-12-01           0  Trump’s Book Club: A President Who Doesn’t Rea...   \n",
       "2018-12-01           1  Kareem Hunt Is Cut by the Chiefs After a Video...   \n",
       "2018-12-01           2  Agency Pulls Back on Its Warning Against Talk ...   \n",
       "2018-12-01           3  A China Hawk Gains Prominence as Trump Confron...   \n",
       "2018-12-01           4                     Wilmer Flores Is a Met No More   \n",
       "\n",
       "                                                     abstract  \\\n",
       "date                                                            \n",
       "2018-12-01  President Trump, who is not a reader, has used...   \n",
       "2018-12-01  Hunt, a star running back, was also suspended ...   \n",
       "2018-12-01  Casual conversations about impeachment and inv...   \n",
       "2018-12-01  Michael Pillsbury, the president’s top outside...   \n",
       "2018-12-01  A fan favorite, Flores did not receive a contr...   \n",
       "\n",
       "                                               lead_paragraph  word_count  \\\n",
       "date                                                                        \n",
       "2018-12-01  WASHINGTON — President Trump, a leader who is ...        1223   \n",
       "2018-12-01  The Kansas City Chiefs cut their star running ...        1036   \n",
       "2018-12-01  WASHINGTON — An independent government agency,...         567   \n",
       "2018-12-01  WASHINGTON — Michael Pillsbury had just finish...        1449   \n",
       "2018-12-01  The Mets parted ways with a fan favorite, Wilm...         291   \n",
       "\n",
       "           document_type type_of_material section_name  \\\n",
       "date                                                     \n",
       "2018-12-01       article             News         U.S.   \n",
       "2018-12-01       article             News       Sports   \n",
       "2018-12-01       article             News         U.S.   \n",
       "2018-12-01       article             News         U.S.   \n",
       "2018-12-01       article             News       Sports   \n",
       "\n",
       "                                                     keywords  Unnamed: 0.1  \n",
       "date                                                                         \n",
       "2018-12-01  ['Books and Literature', 'United States Politi...           NaN  \n",
       "2018-12-01                  ['Football', 'Domestic Violence']           NaN  \n",
       "2018-12-01                               ['Hatch Act (1939)']           NaN  \n",
       "2018-12-01  ['United States International Relations', 'Uni...           NaN  \n",
       "2018-12-01                                       ['Baseball']           NaN  "
      ]
     },
     "execution_count": 12,
     "metadata": {},
     "output_type": "execute_result"
    }
   ],
   "source": [
    "df.head()"
   ]
  },
  {
   "cell_type": "code",
   "execution_count": 13,
   "id": "9e8b3ebb",
   "metadata": {},
   "outputs": [
    {
     "data": {
      "text/plain": [
       "Index(['Unnamed: 0', 'headline', 'abstract', 'lead_paragraph', 'word_count',\n",
       "       'document_type', 'type_of_material', 'section_name', 'keywords',\n",
       "       'Unnamed: 0.1'],\n",
       "      dtype='object')"
      ]
     },
     "execution_count": 13,
     "metadata": {},
     "output_type": "execute_result"
    }
   ],
   "source": [
    "df.columns"
   ]
  },
  {
   "cell_type": "code",
   "execution_count": 14,
   "id": "374a98e3",
   "metadata": {},
   "outputs": [],
   "source": [
    "# organize the order of columns\n",
    "df = df[['section_name', 'headline', \n",
    "         'abstract', 'lead_paragraph', 'keywords',\n",
    "         'word_count', 'document_type', 'type_of_material']]\n",
    "\n",
    "# Save the cleaned data as new csv file\n",
    "df.to_csv('nyt_5.csv')"
   ]
  },
  {
   "cell_type": "code",
   "execution_count": 15,
   "id": "d9ad86b9",
   "metadata": {},
   "outputs": [
    {
     "name": "stderr",
     "output_type": "stream",
     "text": [
      "/Users/hitomihoshino/opt/anaconda3/lib/python3.8/site-packages/IPython/core/interactiveshell.py:3437: DtypeWarning: Columns (0) have mixed types.Specify dtype option on import or set low_memory=False.\n",
      "  exec(code_obj, self.user_global_ns, self.user_ns)\n"
     ]
    },
    {
     "data": {
      "text/plain": [
       "(861848, 9)"
      ]
     },
     "execution_count": 15,
     "metadata": {},
     "output_type": "execute_result"
    }
   ],
   "source": [
    "df=pd.read_csv('nyt_5.csv')\n",
    "df.shape"
   ]
  },
  {
   "cell_type": "code",
   "execution_count": 17,
   "id": "4ca88ed3",
   "metadata": {},
   "outputs": [
    {
     "data": {
      "text/html": [
       "<div>\n",
       "<style scoped>\n",
       "    .dataframe tbody tr th:only-of-type {\n",
       "        vertical-align: middle;\n",
       "    }\n",
       "\n",
       "    .dataframe tbody tr th {\n",
       "        vertical-align: top;\n",
       "    }\n",
       "\n",
       "    .dataframe thead th {\n",
       "        text-align: right;\n",
       "    }\n",
       "</style>\n",
       "<table border=\"1\" class=\"dataframe\">\n",
       "  <thead>\n",
       "    <tr style=\"text-align: right;\">\n",
       "      <th></th>\n",
       "      <th>date</th>\n",
       "      <th>section_name</th>\n",
       "      <th>headline</th>\n",
       "      <th>abstract</th>\n",
       "      <th>lead_paragraph</th>\n",
       "      <th>keywords</th>\n",
       "      <th>word_count</th>\n",
       "      <th>document_type</th>\n",
       "      <th>type_of_material</th>\n",
       "    </tr>\n",
       "  </thead>\n",
       "  <tbody>\n",
       "    <tr>\n",
       "      <th>0</th>\n",
       "      <td>2018-12-01</td>\n",
       "      <td>U.S.</td>\n",
       "      <td>Trump’s Book Club: A President Who Doesn’t Rea...</td>\n",
       "      <td>President Trump, who is not a reader, has used...</td>\n",
       "      <td>WASHINGTON — President Trump, a leader who is ...</td>\n",
       "      <td>['Books and Literature', 'United States Politi...</td>\n",
       "      <td>1223</td>\n",
       "      <td>article</td>\n",
       "      <td>News</td>\n",
       "    </tr>\n",
       "    <tr>\n",
       "      <th>1</th>\n",
       "      <td>2018-12-01</td>\n",
       "      <td>Sports</td>\n",
       "      <td>Kareem Hunt Is Cut by the Chiefs After a Video...</td>\n",
       "      <td>Hunt, a star running back, was also suspended ...</td>\n",
       "      <td>The Kansas City Chiefs cut their star running ...</td>\n",
       "      <td>['Football', 'Domestic Violence']</td>\n",
       "      <td>1036</td>\n",
       "      <td>article</td>\n",
       "      <td>News</td>\n",
       "    </tr>\n",
       "    <tr>\n",
       "      <th>2</th>\n",
       "      <td>2018-12-01</td>\n",
       "      <td>U.S.</td>\n",
       "      <td>Agency Pulls Back on Its Warning Against Talk ...</td>\n",
       "      <td>Casual conversations about impeachment and inv...</td>\n",
       "      <td>WASHINGTON — An independent government agency,...</td>\n",
       "      <td>['Hatch Act (1939)']</td>\n",
       "      <td>567</td>\n",
       "      <td>article</td>\n",
       "      <td>News</td>\n",
       "    </tr>\n",
       "    <tr>\n",
       "      <th>3</th>\n",
       "      <td>2018-12-01</td>\n",
       "      <td>U.S.</td>\n",
       "      <td>A China Hawk Gains Prominence as Trump Confron...</td>\n",
       "      <td>Michael Pillsbury, the president’s top outside...</td>\n",
       "      <td>WASHINGTON — Michael Pillsbury had just finish...</td>\n",
       "      <td>['United States International Relations', 'Uni...</td>\n",
       "      <td>1449</td>\n",
       "      <td>article</td>\n",
       "      <td>News</td>\n",
       "    </tr>\n",
       "    <tr>\n",
       "      <th>4</th>\n",
       "      <td>2018-12-01</td>\n",
       "      <td>Sports</td>\n",
       "      <td>Wilmer Flores Is a Met No More</td>\n",
       "      <td>A fan favorite, Flores did not receive a contr...</td>\n",
       "      <td>The Mets parted ways with a fan favorite, Wilm...</td>\n",
       "      <td>['Baseball']</td>\n",
       "      <td>291</td>\n",
       "      <td>article</td>\n",
       "      <td>News</td>\n",
       "    </tr>\n",
       "  </tbody>\n",
       "</table>\n",
       "</div>"
      ],
      "text/plain": [
       "         date section_name                                           headline  \\\n",
       "0  2018-12-01         U.S.  Trump’s Book Club: A President Who Doesn’t Rea...   \n",
       "1  2018-12-01       Sports  Kareem Hunt Is Cut by the Chiefs After a Video...   \n",
       "2  2018-12-01         U.S.  Agency Pulls Back on Its Warning Against Talk ...   \n",
       "3  2018-12-01         U.S.  A China Hawk Gains Prominence as Trump Confron...   \n",
       "4  2018-12-01       Sports                     Wilmer Flores Is a Met No More   \n",
       "\n",
       "                                            abstract  \\\n",
       "0  President Trump, who is not a reader, has used...   \n",
       "1  Hunt, a star running back, was also suspended ...   \n",
       "2  Casual conversations about impeachment and inv...   \n",
       "3  Michael Pillsbury, the president’s top outside...   \n",
       "4  A fan favorite, Flores did not receive a contr...   \n",
       "\n",
       "                                      lead_paragraph  \\\n",
       "0  WASHINGTON — President Trump, a leader who is ...   \n",
       "1  The Kansas City Chiefs cut their star running ...   \n",
       "2  WASHINGTON — An independent government agency,...   \n",
       "3  WASHINGTON — Michael Pillsbury had just finish...   \n",
       "4  The Mets parted ways with a fan favorite, Wilm...   \n",
       "\n",
       "                                            keywords  word_count  \\\n",
       "0  ['Books and Literature', 'United States Politi...        1223   \n",
       "1                  ['Football', 'Domestic Violence']        1036   \n",
       "2                               ['Hatch Act (1939)']         567   \n",
       "3  ['United States International Relations', 'Uni...        1449   \n",
       "4                                       ['Baseball']         291   \n",
       "\n",
       "  document_type type_of_material  \n",
       "0       article             News  \n",
       "1       article             News  \n",
       "2       article             News  \n",
       "3       article             News  \n",
       "4       article             News  "
      ]
     },
     "execution_count": 17,
     "metadata": {},
     "output_type": "execute_result"
    }
   ],
   "source": [
    "df.head()"
   ]
  },
  {
   "cell_type": "code",
   "execution_count": 2,
   "id": "be20b220",
   "metadata": {},
   "outputs": [
    {
     "name": "stderr",
     "output_type": "stream",
     "text": [
      "/Users/hitomihoshino/opt/anaconda3/lib/python3.8/site-packages/IPython/core/interactiveshell.py:3437: DtypeWarning: Columns (3,5,7,8,9,11,15) have mixed types.Specify dtype option on import or set low_memory=False.\n",
      "  exec(code_obj, self.user_global_ns, self.user_ns)\n"
     ]
    }
   ],
   "source": [
    "df = pd.read_csv('nyt_5_unclean.csv')"
   ]
  },
  {
   "cell_type": "code",
   "execution_count": null,
   "id": "c79eb5ec",
   "metadata": {
    "scrolled": true
   },
   "outputs": [],
   "source": [
    "df"
   ]
  },
  {
   "cell_type": "code",
   "execution_count": 4,
   "id": "59610c6a",
   "metadata": {},
   "outputs": [],
   "source": [
    "pd.set_option(\"display.max_rows\", None, \"display.max_columns\", None)"
   ]
  },
  {
   "cell_type": "code",
   "execution_count": null,
   "id": "92f640b2",
   "metadata": {},
   "outputs": [],
   "source": []
  }
 ],
 "metadata": {
  "kernelspec": {
   "display_name": "Python 3",
   "language": "python",
   "name": "python3"
  },
  "language_info": {
   "codemirror_mode": {
    "name": "ipython",
    "version": 3
   },
   "file_extension": ".py",
   "mimetype": "text/x-python",
   "name": "python",
   "nbconvert_exporter": "python",
   "pygments_lexer": "ipython3",
   "version": "3.8.8"
  },
  "toc": {
   "base_numbering": 1,
   "nav_menu": {},
   "number_sections": true,
   "sideBar": true,
   "skip_h1_title": false,
   "title_cell": "Table of Contents",
   "title_sidebar": "Contents",
   "toc_cell": false,
   "toc_position": {},
   "toc_section_display": true,
   "toc_window_display": false
  }
 },
 "nbformat": 4,
 "nbformat_minor": 5
}
